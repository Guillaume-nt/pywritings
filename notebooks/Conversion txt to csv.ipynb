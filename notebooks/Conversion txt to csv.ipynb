{
 "cells": [
  {
   "cell_type": "markdown",
   "metadata": {},
   "source": [
    "# Conversion du fichier words.txt en fichier csv\n",
    "## Ce notebook crée le fichier csv qui sera notre dataset :\n",
    "- Renommage des colonnes \n",
    "- Ajout de la taille du mot : nombre de lettres\n",
    "- Ajout d'une colonne binaire pour qualifier la présence d'espace dans le mot\n",
    "- Ajout d'une colonne contenant le chemin menant à l'image\n",
    "- Modification de toutes les colonnes numériques en nombre entier\n",
    "\n",
    "Nous avons considérer qu'il serait préferable de séparer notre livrable en 2 parties:\n",
    "- la conversion et le pré-traitement du fichier\n",
    "- l'exploration du jeu de données."
   ]
  },
  {
   "cell_type": "code",
   "execution_count": 5,
   "metadata": {},
   "outputs": [],
   "source": [
    "file = open(\"ASCII/words.txt\")\n",
    "data=[]\n",
    "for line in file:\n",
    "        if line[0]!='#':\n",
    "            result = line.split()\n",
    "            result[8] = ' '.join(result[8:])\n",
    "            data.append(result[:9])\n",
    "\n",
    "            \n",
    "import pandas as pd\n",
    "import numpy as np\n",
    "import matplotlib.pyplot as plt\n",
    "import seaborn as sns\n",
    "import PIL.Image\n",
    "from matplotlib.pyplot import imshow\n",
    "\n",
    "\n",
    "df= pd.DataFrame(data, columns=['fileName','out_of_focus','greyLevel','x_min','y_min','width','height','tag','word'])\n",
    "\n",
    "df['len']= df['word'].apply(len)\n",
    "df.x_min=df.x_min.astype(int)\n",
    "df.greyLevel=df.greyLevel.astype(int)\n",
    "df.y_min=df.y_min.astype(int)\n",
    "df.height=df.height.astype(int)\n",
    "df.width=df.width.astype(int)\n",
    "df = df.replace(to_replace = ['err', 'ok'],\n",
    "                                    value= [0, 1])\n",
    "df['space_in_text'] = [' ' in l for l in df['word']]\n",
    "df = df.replace(to_replace = [False, True],\n",
    "                                    value= [0, 1])\n",
    "df['len'] = df['word'].map(lambda x: len(x))\n",
    "df['path'] = [('words/'+l[:3]+'/'+l[:-6]+'/'+l+'.png') for l in df['fileName']]\n",
    "\n",
    "df.to_csv('word.csv',index=False)"
   ]
  }
 ],
 "metadata": {
  "kernelspec": {
   "display_name": "Python 3",
   "language": "python",
   "name": "python3"
  },
  "language_info": {
   "codemirror_mode": {
    "name": "ipython",
    "version": 3
   },
   "file_extension": ".py",
   "mimetype": "text/x-python",
   "name": "python",
   "nbconvert_exporter": "python",
   "pygments_lexer": "ipython3",
   "version": "3.8.5"
  },
  "toc": {
   "base_numbering": 1,
   "nav_menu": {},
   "number_sections": true,
   "sideBar": true,
   "skip_h1_title": false,
   "title_cell": "Table of Contents",
   "title_sidebar": "Contents",
   "toc_cell": false,
   "toc_position": {},
   "toc_section_display": true,
   "toc_window_display": false
  }
 },
 "nbformat": 4,
 "nbformat_minor": 4
}
